{
 "cells": [
  {
   "cell_type": "code",
   "execution_count": 27,
   "metadata": {},
   "outputs": [],
   "source": [
    "from openai import OpenAI\n",
    "import yaml\n",
    "from models import Task\n",
    "import os\n",
    "\n",
    "client = OpenAI(\n",
    "    api_key=os.environ.get(\"OPENAI_API_KEY\")\n",
    ")\n",
    "\n",
    "def load_config(file_path):\n",
    "    with open(file_path,'r') as file:\n",
    "        return yaml.safe_load(file)\n",
    "\n",
    "config=load_config('config.yaml')\n",
    "tools=config['openai_tool']"
   ]
  },
  {
   "cell_type": "code",
   "execution_count": 9,
   "metadata": {},
   "outputs": [
    {
     "data": {
      "text/plain": [
       "{'tool1': {'messages': [{'role': 'system',\n",
       "    'content': 'Categorize the task into one of the following: Work, Personal, Errand, Study, Health, Other.'},\n",
       "   {'role': 'user',\n",
       "    'content': 'Task Title: {title}\\nDescription: {description}'}],\n",
       "  'model': 'gpt-4o-mini',\n",
       "  'temperature': 0.6,\n",
       "  'max_tokens': 40},\n",
       " 'tool2': {'messages': [{'role': 'system', 'content': 'Summarize the task.'},\n",
       "   {'role': 'user',\n",
       "    'content': 'Task Title: {title}\\nDescription: {description}'}],\n",
       "  'model': 'gpt-4o-mini',\n",
       "  'temperature': 1.0,\n",
       "  'max_tokens': 100}}"
      ]
     },
     "execution_count": 9,
     "metadata": {},
     "output_type": "execute_result"
    }
   ],
   "source": [
    "tools"
   ]
  },
  {
   "cell_type": "code",
   "execution_count": 18,
   "metadata": {},
   "outputs": [
    {
     "data": {
      "text/plain": [
       "{'messages': [{'role': 'system',\n",
       "   'content': 'Categorize the task into one of the following: Work, Personal, Errand, Study, Health, Other.'},\n",
       "  {'role': 'user',\n",
       "   'content': 'Task Title: {title}\\nDescription: {description}\\n'}],\n",
       " 'model': 'gpt-4o-mini',\n",
       " 'temperature': 0.6,\n",
       " 'max_tokens': 40}"
      ]
     },
     "execution_count": 18,
     "metadata": {},
     "output_type": "execute_result"
    }
   ],
   "source": [
    "tools[\"tool1\"]"
   ]
  },
  {
   "cell_type": "code",
   "execution_count": 48,
   "metadata": {},
   "outputs": [],
   "source": [
    "title = \"Finish Assignment\"\n",
    "description = \"Complete the math assignment by tonight.\""
   ]
  },
  {
   "cell_type": "code",
   "execution_count": 49,
   "metadata": {},
   "outputs": [],
   "source": [
    "tool1 = config[\"openai_tool\"][\"tool1\"][\"messages\"][1][\"content\"].format(title=title, description=description)"
   ]
  },
  {
   "cell_type": "code",
   "execution_count": 50,
   "metadata": {},
   "outputs": [
    {
     "data": {
      "text/plain": [
       "{'tool1': {'messages': [{'role': 'system',\n",
       "    'content': 'Categorize the task into one of the following: Work, Personal, Errand, Study, Health, Other.'},\n",
       "   {'role': 'user',\n",
       "    'content': 'Task Title: {title}\\nDescription: {description}\\n'}],\n",
       "  'model': 'gpt-4o-mini',\n",
       "  'temperature': 0.6,\n",
       "  'max_tokens': 40},\n",
       " 'tool2': {'messages': [{'role': 'system', 'content': 'Summarize the task.'},\n",
       "   {'role': 'user',\n",
       "    'content': 'Task Title: {title}\\nDescription: {description}\\n'}],\n",
       "  'model': 'gpt-4o-mini',\n",
       "  'temperature': 1.0,\n",
       "  'max_tokens': 100}}"
      ]
     },
     "execution_count": 50,
     "metadata": {},
     "output_type": "execute_result"
    }
   ],
   "source": [
    "tools"
   ]
  },
  {
   "cell_type": "code",
   "execution_count": 68,
   "metadata": {},
   "outputs": [
    {
     "name": "stdout",
     "output_type": "stream",
     "text": [
      "Category: Personal\n"
     ]
    }
   ],
   "source": [
    "response = client.chat.completions.create(\n",
    "    model=tools[\"tool1\"][\"model\"],\n",
    "    messages=[\n",
    "        {\"role\": \"system\", \"content\": tools[\"tool1\"][\"messages\"][0][\"content\"]},\n",
    "        {\"role\": \"user\", \"content\": \"Task Title: dota 2\\nDescription: play dota with boys at 9pm\"}\n",
    "    ],\n",
    "    temperature=tools[\"tool1\"][\"temperature\"],\n",
    "    max_tokens=tools[\"tool1\"][\"max_tokens\"]\n",
    ")\n",
    "answer = response.choices[0].message.content.strip()\n",
    "print(answer)\n"
   ]
  },
  {
   "cell_type": "code",
   "execution_count": 99,
   "metadata": {},
   "outputs": [
    {
     "data": {
      "text/plain": [
       "'Category: Personal'"
      ]
     },
     "execution_count": 99,
     "metadata": {},
     "output_type": "execute_result"
    }
   ],
   "source": [
    "response.choices[0].message.content"
   ]
  },
  {
   "cell_type": "code",
   "execution_count": null,
   "metadata": {},
   "outputs": [],
   "source": [
    "from firebase_admin import firestore,credentials\n",
    "import firebase_admin\n",
    "cred = credentials.Certificate(\"serviceAccountKey.json\")\n",
    "firebase_admin.initialize_app(cred)\n",
    "db = firestore.client()\n",
    "task_ref=db.collection('tasks')"
   ]
  },
  {
   "cell_type": "code",
   "execution_count": 9,
   "metadata": {},
   "outputs": [
    {
     "data": {
      "text/plain": [
       "<google.cloud.firestore_v1.client.Client at 0x1a99cebaf60>"
      ]
     },
     "execution_count": 9,
     "metadata": {},
     "output_type": "execute_result"
    }
   ],
   "source": [
    "db"
   ]
  },
  {
   "cell_type": "code",
   "execution_count": 14,
   "metadata": {},
   "outputs": [],
   "source": [
    "id_ref = db.collection(\"tasks\").document(\"gVvoyJy5ZQRSdLAEHrUa\")\n",
    "collections = id_ref.collections()\n",
    "for collection in collections:\n",
    "    for doc in collection.stream():\n",
    "        print(f\"{doc.id} => {doc.to_dict()}\")"
   ]
  },
  {
   "cell_type": "code",
   "execution_count": 18,
   "metadata": {},
   "outputs": [
    {
     "name": "stdout",
     "output_type": "stream",
     "text": [
      "Document data: {'created_at': DatetimeWithNanoseconds(2024, 12, 22, 17, 26, tzinfo=datetime.timezone.utc), 'title': 'Checkup', 'description': 'Need to take my mother to the hospital for her daily checkup.', 'summary': None, 'category': 'Health'}\n"
     ]
    }
   ],
   "source": [
    "doc_ref = db.collection(\"tasks\").document(\"gVvoyJy5ZQRSdLAEHrUa\")\n",
    "\n",
    "doc = doc_ref.get()\n",
    "if doc.exists:\n",
    "    print(f\"Document data: {doc.to_dict()}\")\n",
    "else:\n",
    "    print(\"No such document!\")"
   ]
  },
  {
   "cell_type": "code",
   "execution_count": 7,
   "metadata": {},
   "outputs": [
    {
     "data": {
      "text/plain": [
       "<google.cloud.firestore_v1.document.DocumentReference at 0x1a99cf8c3e0>"
      ]
     },
     "execution_count": 7,
     "metadata": {},
     "output_type": "execute_result"
    }
   ],
   "source": [
    "city_ref"
   ]
  },
  {
   "cell_type": "code",
   "execution_count": null,
   "metadata": {},
   "outputs": [],
   "source": []
  }
 ],
 "metadata": {
  "kernelspec": {
   "display_name": "task103",
   "language": "python",
   "name": "python3"
  },
  "language_info": {
   "codemirror_mode": {
    "name": "ipython",
    "version": 3
   },
   "file_extension": ".py",
   "mimetype": "text/x-python",
   "name": "python",
   "nbconvert_exporter": "python",
   "pygments_lexer": "ipython3",
   "version": "3.12.4"
  }
 },
 "nbformat": 4,
 "nbformat_minor": 2
}
